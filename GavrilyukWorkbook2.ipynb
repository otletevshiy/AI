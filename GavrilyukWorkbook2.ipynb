{
 "cells": [
  {
   "cell_type": "code",
   "execution_count": 1,
   "id": "a5e2d390",
   "metadata": {},
   "outputs": [],
   "source": [
    "import numpy as np\n",
    "import pandas as pd\n",
    "import sklearn as sk"
   ]
  },
  {
   "cell_type": "markdown",
   "id": "644c5e29",
   "metadata": {},
   "source": [
    "# Задание 1.3.1"
   ]
  },
  {
   "cell_type": "code",
   "execution_count": 2,
   "id": "e69e5c74",
   "metadata": {},
   "outputs": [
    {
     "name": "stdout",
     "output_type": "stream",
     "text": [
      "[[1 0 1 0 1 0 1 0]\n",
      " [0 1 0 1 0 1 0 1]\n",
      " [1 0 1 0 1 0 1 0]\n",
      " [0 1 0 1 0 1 0 1]\n",
      " [1 0 1 0 1 0 1 0]\n",
      " [0 1 0 1 0 1 0 1]\n",
      " [1 0 1 0 1 0 1 0]\n",
      " [0 1 0 1 0 1 0 1]]\n"
     ]
    }
   ],
   "source": [
    "# Создаем пустую матрицу 8x8, заполненную нулями\n",
    "matrix = np.zeros((8, 8), dtype=int)\n",
    "\n",
    "# Заполним чётные клетки (начиная с [0,0]) единицами\n",
    "matrix[::2, ::2] = 1\n",
    "matrix[1::2, 1::2] = 1\n",
    "\n",
    "print(matrix)"
   ]
  },
  {
   "cell_type": "markdown",
   "id": "5ca6dd2a",
   "metadata": {},
   "source": [
    "# Задание 1.3.2"
   ]
  },
  {
   "cell_type": "code",
   "execution_count": 3,
   "id": "9524b315",
   "metadata": {},
   "outputs": [
    {
     "name": "stdout",
     "output_type": "stream",
     "text": [
      "[[0 1 2 3 4]\n",
      " [0 1 2 3 4]\n",
      " [0 1 2 3 4]\n",
      " [0 1 2 3 4]\n",
      " [0 1 2 3 4]]\n"
     ]
    }
   ],
   "source": [
    "row_values = np.arange(5)\n",
    "\n",
    "# Повторим одномерный массив 5 раз, чтобы создать 5 строк\n",
    "matrix = np.tile(row_values, (5, 1))\n",
    "\n",
    "print(matrix)"
   ]
  },
  {
   "cell_type": "markdown",
   "id": "c0a44209",
   "metadata": {},
   "source": [
    "# Задание 1.3.3"
   ]
  },
  {
   "cell_type": "code",
   "execution_count": 4,
   "id": "f462389c",
   "metadata": {},
   "outputs": [
    {
     "name": "stdout",
     "output_type": "stream",
     "text": [
      "[[[0.09763841 0.95718281 0.64971458]\n",
      "  [0.84034869 0.31822408 0.86078446]\n",
      "  [0.4387154  0.58758281 0.01888897]]\n",
      "\n",
      " [[0.30068274 0.4844596  0.57937175]\n",
      "  [0.18433471 0.07045953 0.9329755 ]\n",
      "  [0.47526839 0.28272974 0.11726481]]\n",
      "\n",
      " [[0.15065536 0.71039246 0.6981671 ]\n",
      "  [0.91617588 0.90661152 0.49758726]\n",
      "  [0.55154812 0.74780334 0.68147916]]]\n"
     ]
    }
   ],
   "source": [
    "# Создаем массив 3x3x3 со случайными значениями от 0 до 1\n",
    "random_array = np.random.rand(3, 3, 3)\n",
    "\n",
    "print(random_array)"
   ]
  },
  {
   "cell_type": "markdown",
   "id": "99536391",
   "metadata": {},
   "source": [
    "# Задание 1.3.4"
   ]
  },
  {
   "cell_type": "code",
   "execution_count": 5,
   "id": "7fae02c9",
   "metadata": {},
   "outputs": [
    {
     "name": "stdout",
     "output_type": "stream",
     "text": [
      "[[1 1 1 1 1]\n",
      " [1 0 0 0 1]\n",
      " [1 0 0 0 1]\n",
      " [1 0 0 0 1]\n",
      " [1 1 1 1 1]]\n"
     ]
    }
   ],
   "source": [
    "import numpy as np\n",
    "\n",
    "# Создаем матрицу 5x5, заполненную нулями\n",
    "matrix = np.zeros((5, 5), dtype=int)\n",
    "\n",
    "# Устанавливаем значения на границах равными 1\n",
    "matrix[0, :] = 1  # Верхняя граница\n",
    "matrix[-1, :] = 1  # Нижняя граница\n",
    "matrix[:, 0] = 1  # Левая граница\n",
    "matrix[:, -1] = 1  # Правая граница\n",
    "\n",
    "print(matrix)"
   ]
  },
  {
   "cell_type": "markdown",
   "id": "2e5d958b",
   "metadata": {},
   "source": [
    "# Задание 1.3.5"
   ]
  },
  {
   "cell_type": "code",
   "execution_count": 7,
   "id": "9580f2e1",
   "metadata": {},
   "outputs": [
    {
     "name": "stdout",
     "output_type": "stream",
     "text": [
      "[8 5 4 3 2]\n"
     ]
    }
   ],
   "source": [
    "# Создаем массив\n",
    "my_array = np.array([3, 4, 8, 2, 5])\n",
    "\n",
    "# Сортируем массив по убыванию\n",
    "sorted_array = np.sort(my_array)[::-1]\n",
    "\n",
    "# Выводим отсортированный массив\n",
    "print(sorted_array)"
   ]
  },
  {
   "cell_type": "markdown",
   "id": "f5f9717c",
   "metadata": {},
   "source": [
    "# Задание 1.3.6"
   ]
  },
  {
   "cell_type": "code",
   "execution_count": 8,
   "id": "87ca50f5",
   "metadata": {},
   "outputs": [
    {
     "name": "stdout",
     "output_type": "stream",
     "text": [
      "Форма матрицы: (3, 4)\n",
      "Размер матрицы: 12\n",
      "Размерность матрицы: 2\n"
     ]
    }
   ],
   "source": [
    "# Создадим матрицу 3x4 (3 строки, 4 столбца) с произвольными значениями\n",
    "matrix = np.array([[1, 2, 3, 4],\n",
    "                   [5, 6, 7, 8],\n",
    "                   [9, 10, 11, 12]])\n",
    "\n",
    "# Выведем форму матрицы\n",
    "print(\"Форма матрицы:\", matrix.shape)\n",
    "\n",
    "# Выведем размер матрицы\n",
    "print(\"Размер матрицы:\", matrix.size)\n",
    "\n",
    "# Выведем размерность матрицы\n",
    "print(\"Размерность матрицы:\", matrix.ndim)"
   ]
  },
  {
   "cell_type": "markdown",
   "id": "ee42a5cb",
   "metadata": {},
   "source": [
    "# Задание 2.3.1"
   ]
  },
  {
   "cell_type": "code",
   "execution_count": 9,
   "id": "42aa0e15",
   "metadata": {},
   "outputs": [
    {
     "name": "stdout",
     "output_type": "stream",
     "text": [
      "Евклидово расстояние между a и b: 5.196152422706632\n"
     ]
    }
   ],
   "source": [
    "# Создадим два NumPy массива, представляющих точки a и b\n",
    "a = pd.Series([1, 2, 3])\n",
    "b = pd.Series([4, 5, 6])\n",
    "\n",
    "# Вычислим квадрат разности между a и b для каждой координаты\n",
    "squared_diff = (a - b) ** 2\n",
    "\n",
    "# Вычислим сумму квадратов разностей\n",
    "sum_squared_diff = squared_diff.sum()\n",
    "\n",
    "# Вычислим квадратный корень из суммы квадратов разностей\n",
    "euclidean_distance = np.sqrt(sum_squared_diff)\n",
    "\n",
    "print(\"Евклидово расстояние между a и b:\", euclidean_distance)"
   ]
  },
  {
   "cell_type": "markdown",
   "id": "b7691e69",
   "metadata": {},
   "source": [
    "# Задание 2.3.2"
   ]
  },
  {
   "cell_type": "code",
   "execution_count": 10,
   "id": "b84c890f",
   "metadata": {},
   "outputs": [
    {
     "name": "stdout",
     "output_type": "stream",
     "text": [
      "   sepal_length_cm  sepal_width_cm  petal_length_cm  petal_width_cm species\n",
      "0              5.1             3.5              1.4             0.2  setosa\n",
      "1              4.9             3.0              1.4             0.2  setosa\n",
      "2              4.7             3.2              1.3             0.2  setosa\n",
      "3              4.6             3.1              1.5             0.2  setosa\n",
      "4              5.0             3.6              1.4             0.2  setosa\n"
     ]
    }
   ],
   "source": [
    "# Замените URL ниже на URL CSV-файла, который вы хотите загрузить\n",
    "url = \"https://raw.githubusercontent.com/akmand/datasets/master/iris.csv\"\n",
    "\n",
    "# Загрузите CSV-файл во фрейм данных\n",
    "df = pd.read_csv(url)\n",
    "\n",
    "# Выведите первые несколько строк фрейма данных для проверки\n",
    "print(df.head(5))"
   ]
  },
  {
   "cell_type": "markdown",
   "id": "4195777d",
   "metadata": {},
   "source": [
    "# Задание 2.3.3"
   ]
  },
  {
   "cell_type": "code",
   "execution_count": 11,
   "id": "40e3a3f7",
   "metadata": {},
   "outputs": [
    {
     "data": {
      "text/html": [
       "<div>\n",
       "<style scoped>\n",
       "    .dataframe tbody tr th:only-of-type {\n",
       "        vertical-align: middle;\n",
       "    }\n",
       "\n",
       "    .dataframe tbody tr th {\n",
       "        vertical-align: top;\n",
       "    }\n",
       "\n",
       "    .dataframe thead th {\n",
       "        text-align: right;\n",
       "    }\n",
       "</style>\n",
       "<table border=\"1\" class=\"dataframe\">\n",
       "  <thead>\n",
       "    <tr style=\"text-align: right;\">\n",
       "      <th></th>\n",
       "      <th>sepal_length_cm</th>\n",
       "      <th>sepal_width_cm</th>\n",
       "      <th>petal_length_cm</th>\n",
       "      <th>petal_width_cm</th>\n",
       "    </tr>\n",
       "  </thead>\n",
       "  <tbody>\n",
       "    <tr>\n",
       "      <th>count</th>\n",
       "      <td>150.000000</td>\n",
       "      <td>150.000000</td>\n",
       "      <td>150.000000</td>\n",
       "      <td>150.000000</td>\n",
       "    </tr>\n",
       "    <tr>\n",
       "      <th>mean</th>\n",
       "      <td>5.843333</td>\n",
       "      <td>3.054000</td>\n",
       "      <td>3.758667</td>\n",
       "      <td>1.198667</td>\n",
       "    </tr>\n",
       "    <tr>\n",
       "      <th>std</th>\n",
       "      <td>0.828066</td>\n",
       "      <td>0.433594</td>\n",
       "      <td>1.764420</td>\n",
       "      <td>0.763161</td>\n",
       "    </tr>\n",
       "    <tr>\n",
       "      <th>min</th>\n",
       "      <td>4.300000</td>\n",
       "      <td>2.000000</td>\n",
       "      <td>1.000000</td>\n",
       "      <td>0.100000</td>\n",
       "    </tr>\n",
       "    <tr>\n",
       "      <th>25%</th>\n",
       "      <td>5.100000</td>\n",
       "      <td>2.800000</td>\n",
       "      <td>1.600000</td>\n",
       "      <td>0.300000</td>\n",
       "    </tr>\n",
       "    <tr>\n",
       "      <th>50%</th>\n",
       "      <td>5.800000</td>\n",
       "      <td>3.000000</td>\n",
       "      <td>4.350000</td>\n",
       "      <td>1.300000</td>\n",
       "    </tr>\n",
       "    <tr>\n",
       "      <th>75%</th>\n",
       "      <td>6.400000</td>\n",
       "      <td>3.300000</td>\n",
       "      <td>5.100000</td>\n",
       "      <td>1.800000</td>\n",
       "    </tr>\n",
       "    <tr>\n",
       "      <th>max</th>\n",
       "      <td>7.900000</td>\n",
       "      <td>4.400000</td>\n",
       "      <td>6.900000</td>\n",
       "      <td>2.500000</td>\n",
       "    </tr>\n",
       "  </tbody>\n",
       "</table>\n",
       "</div>"
      ],
      "text/plain": [
       "       sepal_length_cm  sepal_width_cm  petal_length_cm  petal_width_cm\n",
       "count       150.000000      150.000000       150.000000      150.000000\n",
       "mean          5.843333        3.054000         3.758667        1.198667\n",
       "std           0.828066        0.433594         1.764420        0.763161\n",
       "min           4.300000        2.000000         1.000000        0.100000\n",
       "25%           5.100000        2.800000         1.600000        0.300000\n",
       "50%           5.800000        3.000000         4.350000        1.300000\n",
       "75%           6.400000        3.300000         5.100000        1.800000\n",
       "max           7.900000        4.400000         6.900000        2.500000"
      ]
     },
     "execution_count": 11,
     "metadata": {},
     "output_type": "execute_result"
    }
   ],
   "source": [
    "df.head(2)\n",
    "df.tail(3)\n",
    "df.shape\n",
    "df.describe()"
   ]
  },
  {
   "cell_type": "code",
   "execution_count": 12,
   "id": "bd536c40",
   "metadata": {},
   "outputs": [
    {
     "data": {
      "text/html": [
       "<div>\n",
       "<style scoped>\n",
       "    .dataframe tbody tr th:only-of-type {\n",
       "        vertical-align: middle;\n",
       "    }\n",
       "\n",
       "    .dataframe tbody tr th {\n",
       "        vertical-align: top;\n",
       "    }\n",
       "\n",
       "    .dataframe thead th {\n",
       "        text-align: right;\n",
       "    }\n",
       "</style>\n",
       "<table border=\"1\" class=\"dataframe\">\n",
       "  <thead>\n",
       "    <tr style=\"text-align: right;\">\n",
       "      <th></th>\n",
       "      <th>sepal_length_cm</th>\n",
       "      <th>sepal_width_cm</th>\n",
       "      <th>petal_length_cm</th>\n",
       "      <th>petal_width_cm</th>\n",
       "      <th>species</th>\n",
       "    </tr>\n",
       "  </thead>\n",
       "  <tbody>\n",
       "    <tr>\n",
       "      <th>1</th>\n",
       "      <td>4.9</td>\n",
       "      <td>3.0</td>\n",
       "      <td>1.4</td>\n",
       "      <td>0.2</td>\n",
       "      <td>setosa</td>\n",
       "    </tr>\n",
       "    <tr>\n",
       "      <th>2</th>\n",
       "      <td>4.7</td>\n",
       "      <td>3.2</td>\n",
       "      <td>1.3</td>\n",
       "      <td>0.2</td>\n",
       "      <td>setosa</td>\n",
       "    </tr>\n",
       "    <tr>\n",
       "      <th>3</th>\n",
       "      <td>4.6</td>\n",
       "      <td>3.1</td>\n",
       "      <td>1.5</td>\n",
       "      <td>0.2</td>\n",
       "      <td>setosa</td>\n",
       "    </tr>\n",
       "    <tr>\n",
       "      <th>4</th>\n",
       "      <td>5.0</td>\n",
       "      <td>3.6</td>\n",
       "      <td>1.4</td>\n",
       "      <td>0.2</td>\n",
       "      <td>setosa</td>\n",
       "    </tr>\n",
       "    <tr>\n",
       "      <th>5</th>\n",
       "      <td>5.4</td>\n",
       "      <td>3.9</td>\n",
       "      <td>1.7</td>\n",
       "      <td>0.4</td>\n",
       "      <td>setosa</td>\n",
       "    </tr>\n",
       "  </tbody>\n",
       "</table>\n",
       "</div>"
      ],
      "text/plain": [
       "   sepal_length_cm  sepal_width_cm  petal_length_cm  petal_width_cm species\n",
       "1              4.9             3.0              1.4             0.2  setosa\n",
       "2              4.7             3.2              1.3             0.2  setosa\n",
       "3              4.6             3.1              1.5             0.2  setosa\n",
       "4              5.0             3.6              1.4             0.2  setosa\n",
       "5              5.4             3.9              1.7             0.4  setosa"
      ]
     },
     "execution_count": 12,
     "metadata": {},
     "output_type": "execute_result"
    }
   ],
   "source": [
    "df.loc[1:5]"
   ]
  },
  {
   "cell_type": "code",
   "execution_count": 13,
   "id": "29d82541",
   "metadata": {},
   "outputs": [
    {
     "name": "stdout",
     "output_type": "stream",
     "text": [
      "   sepal_length_cm  sepal_width_cm  petal_length_cm  petal_width_cm species\n",
      "0              5.1             3.5              1.4             0.2  setosa\n",
      "5              5.4             3.9              1.7             0.4  setosa\n"
     ]
    }
   ],
   "source": [
    "# Отбираем строки, где значение в столбце \"sepal_length\" больше 5.0\n",
    "filtered_df = df[df['sepal_length_cm'] > 5.0].head(2)\n",
    "\n",
    "print(filtered_df)"
   ]
  },
  {
   "cell_type": "markdown",
   "id": "135b4145",
   "metadata": {},
   "source": [
    "# Задание 3.3.2"
   ]
  },
  {
   "cell_type": "code",
   "execution_count": 14,
   "id": "09ce6739",
   "metadata": {},
   "outputs": [
    {
     "name": "stdout",
     "output_type": "stream",
     "text": [
      "Исходный фрейм данных:\n",
      "\n",
      "   sepal_length_cm  sepal_width_cm  petal_length_cm  petal_width_cm species\n",
      "0              5.1             3.5              1.4             0.2  setosa\n",
      "1              4.9             3.0              1.4             0.2  setosa\n",
      "2              4.7             3.2              1.3             0.2  setosa\n",
      "3              4.6             3.1              1.5             0.2  setosa\n",
      "4              5.0             3.6              1.4             0.2  setosa\n",
      "\n",
      "Фрейм данных после нормализации:\n",
      "\n",
      "   sepal_length_cm  sepal_width_cm  petal_length_cm  petal_width_cm species\n",
      "0         0.222222        1.032057              1.4             0.2  setosa\n",
      "1         0.166667       -0.124958              1.4             0.2  setosa\n",
      "2         0.111111        0.337848              1.3             0.2  setosa\n",
      "3         0.083333        0.106445              1.5             0.2  setosa\n",
      "4         0.194444        1.263460              1.4             0.2  setosa\n"
     ]
    }
   ],
   "source": [
    "from sklearn.preprocessing import MinMaxScaler, StandardScaler\n",
    " \n",
    "url = \"https://raw.githubusercontent.com/akmand/datasets/master/iris.csv\"\n",
    "df = pd.read_csv(url)\n",
    "\n",
    "# Выведем первые несколько строк фрейма данных для проверки\n",
    "print(\"Исходный фрейм данных:\\n\")\n",
    "print(df.head())\n",
    "\n",
    "# Создаем объекты для минимаксного преобразования и z-масштабирования\n",
    "minmax_scaler = MinMaxScaler()\n",
    "z_scaler = StandardScaler()\n",
    "\n",
    "# Нормализуем первый числовой признак (sepal_length_cm) с использованием минимаксного преобразования\n",
    "df['sepal_length_cm'] = minmax_scaler.fit_transform(df[['sepal_length_cm']])\n",
    "\n",
    "# Нормализуем второй числовой признак (sepal_width_cm) с использованием z-масштабирования\n",
    "df['sepal_width_cm'] = z_scaler.fit_transform(df[['sepal_width_cm']])\n",
    "\n",
    "# Выведем обновленный фрейм данных с нормализованными признаками\n",
    "print(\"\\nФрейм данных после нормализации:\\n\")\n",
    "print(df.head())"
   ]
  }
 ],
 "metadata": {
  "kernelspec": {
   "display_name": "Python 3 (ipykernel)",
   "language": "python",
   "name": "python3"
  },
  "language_info": {
   "codemirror_mode": {
    "name": "ipython",
    "version": 3
   },
   "file_extension": ".py",
   "mimetype": "text/x-python",
   "name": "python",
   "nbconvert_exporter": "python",
   "pygments_lexer": "ipython3",
   "version": "3.11.5"
  }
 },
 "nbformat": 4,
 "nbformat_minor": 5
}
