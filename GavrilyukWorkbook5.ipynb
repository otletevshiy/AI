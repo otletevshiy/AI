{
 "cells": [
  {
   "cell_type": "markdown",
   "id": "68fc06e0-e64b-480f-8723-a2d3bdd55d28",
   "metadata": {},
   "source": [
    "## Задание 1"
   ]
  },
  {
   "cell_type": "code",
   "execution_count": 6,
   "id": "eafb5d83-e009-445c-a6a4-1d22c4209bcc",
   "metadata": {},
   "outputs": [
    {
     "name": "stdout",
     "output_type": "stream",
     "text": [
      "0.7071067811865476\n"
     ]
    }
   ],
   "source": [
    "import math\n",
    "\n",
    "class Trigonometry:\n",
    "    def cos(self, rad):\n",
    "        return math.cos(rad)\n",
    "\n",
    "    def sin(self, rad):\n",
    "        return math.sin(rad)\n",
    "\n",
    "    def tan(self, rad):\n",
    "        return math.tan(rad)\n",
    "\n",
    "    def acos(self, x):\n",
    "        return math.acos(x)\n",
    "\n",
    "    def asin(self, x):\n",
    "        return math.asin(x)\n",
    "\n",
    "    def atan(self, x):\n",
    "        return math.atan(x)\n",
    "\n",
    "    def deg_to_rad(self, deg):\n",
    "        return math.radians(deg)\n",
    "\n",
    "trig = Trigonometry()\n",
    "rad = trig.deg_to_rad(45)  # переводим 45 градусов в радианы\n",
    "print(trig.sin(rad))  # вычисляем синус"
   ]
  },
  {
   "cell_type": "markdown",
   "id": "54de1bb3-4f74-43f5-a377-f0845e8a2240",
   "metadata": {},
   "source": [
    "## Задание 2"
   ]
  },
  {
   "cell_type": "code",
   "execution_count": 7,
   "id": "ce7647b7-5add-40d9-8a11-d0b7c022a527",
   "metadata": {},
   "outputs": [
    {
     "name": "stdout",
     "output_type": "stream",
     "text": [
      "Корень дерева: a\n",
      "Левое поддерево: b\n",
      "Правое поддерево: c\n"
     ]
    }
   ],
   "source": [
    "class Node:\n",
    "    def __init__(self, value, left=None, right=None):\n",
    "        self.value = value\n",
    "        self.left = left\n",
    "        self.right = right\n",
    "\n",
    "class BinaryTree:\n",
    "    def __init__(self, root):\n",
    "        self.root = Node(root)\n",
    "\n",
    "    def print_tree(self):\n",
    "        root = self.root.value\n",
    "        left_subtree = self.root.left.value if self.root.left else None\n",
    "        right_subtree = self.root.right.value if self.root.right else None\n",
    "        print(f\"Корень дерева: {root}\")\n",
    "        print(f\"Левое поддерево: {left_subtree}\")\n",
    "        print(f\"Правое поддерево: {right_subtree}\")\n",
    "\n",
    "# Создаем дерево\n",
    "tree = BinaryTree('a')\n",
    "tree.root.left = Node('b')\n",
    "tree.root.right = Node('c')\n",
    "tree.root.left.left = Node('d')\n",
    "tree.root.left.right = Node('e')\n",
    "tree.root.right.right = Node('f')\n",
    "\n",
    "# Выводим дерево\n",
    "tree.print_tree()"
   ]
  },
  {
   "cell_type": "markdown",
   "id": "42da38a5-61b0-4c71-b249-679a9592c278",
   "metadata": {},
   "source": [
    "## Задание 3"
   ]
  },
  {
   "cell_type": "code",
   "execution_count": 10,
   "id": "a6bc703a-1154-4870-b1f3-43ca489520b4",
   "metadata": {},
   "outputs": [
    {
     "name": "stdout",
     "output_type": "stream",
     "text": [
      "1\n",
      "3\n",
      "4\n",
      "6\n",
      "7\n",
      "8\n",
      "10\n",
      "13\n",
      "14\n"
     ]
    }
   ],
   "source": [
    "class Tree:\n",
    "    def __init__(self, data):\n",
    "        self.left = None\n",
    "        self.right = None\n",
    "        self.data = data\n",
    "\n",
    "    def insert(self, data):\n",
    "        if self.data:\n",
    "            if data < self.data:\n",
    "                if self.left is None:\n",
    "                    self.left = Tree(data)\n",
    "                else:\n",
    "                    self.left.insert(data)\n",
    "            elif data > self.data:\n",
    "                if self.right is None:\n",
    "                    self.right = Tree(data)\n",
    "                else:\n",
    "                    self.right.insert(data)\n",
    "        else:\n",
    "            self.data = data\n",
    "\n",
    "    def PrintTree(self):\n",
    "        if self.left:\n",
    "            self.left.PrintTree()\n",
    "        print(self.data),\n",
    "        if self.right:\n",
    "            self.right.PrintTree()\n",
    "\n",
    "# Создаем корень дерева\n",
    "root = Tree(8)\n",
    "\n",
    "# Вставляем элементы\n",
    "root.insert(3)\n",
    "root.insert(10)\n",
    "root.insert(1)\n",
    "root.insert(6)\n",
    "root.insert(14)\n",
    "root.insert(4)\n",
    "root.insert(7)\n",
    "root.insert(13)\n",
    "\n",
    "# Печатаем дерево\n",
    "root.PrintTree()\n"
   ]
  },
  {
   "cell_type": "markdown",
   "id": "4b8eb7bb-cbf4-458b-a8fc-23fdea69d84e",
   "metadata": {},
   "source": [
    "## Задание 4"
   ]
  },
  {
   "cell_type": "code",
   "execution_count": 1,
   "id": "de14f767-ea84-4476-85c4-4a87dbc63d97",
   "metadata": {},
   "outputs": [
    {
     "name": "stdout",
     "output_type": "stream",
     "text": [
      "[1]\n"
     ]
    }
   ],
   "source": [
    "from sklearn import tree\n",
    "\n",
    "# Описание\n",
    "X = [[-1, -1], [-2, -1], [-3, -2], [-1, 2], [1, 2], [3, 3], [1, 3]]\n",
    "target = [0, 0, 0, 1, 1, 1, 1]\n",
    "\n",
    "# Создаем классификатор\n",
    "clf = tree.DecisionTreeClassifier()\n",
    "\n",
    "# Обучаем классификатор\n",
    "clf = clf.fit(X, target)\n",
    "\n",
    "print(clf.predict([[3., 3.]]))"
   ]
  },
  {
   "cell_type": "markdown",
   "id": "35b810c2-5013-4cc3-8729-6b205047a8c1",
   "metadata": {},
   "source": [
    "## Задание 5"
   ]
  },
  {
   "cell_type": "code",
   "execution_count": 26,
   "id": "af744b22-e3af-4589-a580-9e1396e0b6c2",
   "metadata": {},
   "outputs": [
    {
     "name": "stdout",
     "output_type": "stream",
     "text": [
      "       Petrol_tax  Average_income  Paved_Highways  \\\n",
      "count   48.000000       48.000000       48.000000   \n",
      "mean     7.668333     4241.833333     5565.416667   \n",
      "std      0.950770      573.623768     3491.507166   \n",
      "min      5.000000     3063.000000      431.000000   \n",
      "25%      7.000000     3739.000000     3110.250000   \n",
      "50%      7.500000     4298.000000     4735.500000   \n",
      "75%      8.125000     4578.750000     7156.000000   \n",
      "max     10.000000     5342.000000    17782.000000   \n",
      "\n",
      "       Population_Driver_licence(%)  Petrol_Consumption  \n",
      "count                     48.000000           48.000000  \n",
      "mean                       0.570333          576.770833  \n",
      "std                        0.055470          111.885816  \n",
      "min                        0.451000          344.000000  \n",
      "25%                        0.529750          509.500000  \n",
      "50%                        0.564500          568.500000  \n",
      "75%                        0.595250          632.750000  \n",
      "max                        0.724000          968.000000  \n",
      "    Actual  Predicted\n",
      "33     628      534.0\n",
      "23     547      534.0\n",
      "38     648      541.0\n",
      "36     640      635.0\n",
      "2      561      524.0\n",
      "3      414      471.0\n",
      "31     554      571.0\n",
      "26     577      574.0\n",
      "44     782      865.0\n",
      "27     631      577.0\n",
      "Mean Absolute Error: 47.0\n",
      "Mean Squared Error: 3520.0\n",
      "Root Mean Squared Error: 59.329587896765304\n"
     ]
    },
    {
     "data": {
      "image/png": "[encoded data removed]",
      "text/plain": [
       "<Figure size 640x480 with 1 Axes>"
      ]
     },
     "metadata": {},
     "output_type": "display_data"
    }
   ],
   "source": [
    "import pandas as pd\n",
    "import numpy as np\n",
    "from sklearn.model_selection import train_test_split \n",
    "from sklearn.tree import DecisionTreeRegressor\n",
    "from sklearn import metrics\n",
    "from sklearn import tree\n",
    "\n",
    "# Загружаем данные\n",
    "dataset = pd.read_csv('petrol_consumption.csv')\n",
    "print(dataset.describe())\n",
    "# Подготавливаем данные для обучения\n",
    "X = dataset.drop('Petrol_Consumption', axis=1)\n",
    "y = dataset['Petrol_Consumption']\n",
    "X_train, X_test, y_train, y_test = train_test_split(X, y, test_size=0.2, random_state=1)\n",
    "\n",
    "# Создаем и обучаем модель\n",
    "model = DecisionTreeRegressor()  \n",
    "model.fit(X_train, y_train)\n",
    "\n",
    "# Делаем прогноз\n",
    "y_pred = model.predict(X_test)\n",
    "\n",
    "# Оцениваем модель\n",
    "tree.plot_tree(model)\n",
    "df=pd.DataFrame({'Actual':y_test, 'Predicted':y_pred})\n",
    "print(df)\n",
    "print('Mean Absolute Error:', metrics.mean_absolute_error(y_test, y_pred))\n",
    "print('Mean Squared Error:', metrics.mean_squared_error(y_test, y_pred))\n",
    "print('Root Mean Squared Error:', np.sqrt(metrics.mean_squared_error(y_test, y_pred)))"
   ]
  }
 ],
 "metadata": {
  "kernelspec": {
   "display_name": "Python 3 (ipykernel)",
   "language": "python",
   "name": "python3"
  },
  "language_info": {
   "codemirror_mode": {
    "name": "ipython",
    "version": 3
   },
   "file_extension": ".py",
   "mimetype": "text/x-python",
   "name": "python",
   "nbconvert_exporter": "python",
   "pygments_lexer": "ipython3",
   "version": "3.11.5"
  }
 },
 "nbformat": 4,
 "nbformat_minor": 5
}
